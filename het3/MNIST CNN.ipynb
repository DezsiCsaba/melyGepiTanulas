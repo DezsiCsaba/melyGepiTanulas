{
 "cells": [
  {
   "cell_type": "markdown",
   "metadata": {},
   "source": [
    "A letöltött ZIP előfeldolgozása szükséges, hisz a tanítóminták száma nem egyenletes"
   ]
  },
  {
   "cell_type": "code",
   "execution_count": 1,
   "metadata": {},
   "outputs": [
    {
     "data": {
      "text/plain": [
       "['../het2/mnist_as_jpg/trainingset/: 0',\n",
       " '../het2/mnist_as_jpg/trainingset/0: 3795',\n",
       " '../het2/mnist_as_jpg/trainingset/1: 3795',\n",
       " '../het2/mnist_as_jpg/trainingset/2: 3795',\n",
       " '../het2/mnist_as_jpg/trainingset/3: 3795',\n",
       " '../het2/mnist_as_jpg/trainingset/4: 3795',\n",
       " '../het2/mnist_as_jpg/trainingset/5: 3795',\n",
       " '../het2/mnist_as_jpg/trainingset/6: 3795',\n",
       " '../het2/mnist_as_jpg/trainingset/7: 3795',\n",
       " '../het2/mnist_as_jpg/trainingset/8: 3795',\n",
       " '../het2/mnist_as_jpg/trainingset/9: 3795']"
      ]
     },
     "execution_count": 1,
     "metadata": {},
     "output_type": "execute_result"
    }
   ],
   "source": [
    "import os\n",
    "import random\n",
    "\n",
    "path = \"../het2/mnist_as_jpg/trainingset/\"\n",
    "\n",
    "min_len = min([len(files) for root, dirs, files in os.walk(path)][1:])\n",
    "\n",
    "for root, dirs, files in os.walk(path):\n",
    "    if (len(files) == 0):\n",
    "        continue\n",
    "    del_count = len(files)-min_len\n",
    "    random.shuffle(files)\n",
    "    for f in files[:del_count]:\n",
    "        os.remove(os.path.join(root, f))\n",
    "\n",
    "[\"{}: {}\".format(root, len(files)) for root, dirs, files in os.walk(path)]"
   ]
  },
  {
   "cell_type": "code",
   "execution_count": 2,
   "metadata": {},
   "outputs": [
    {
     "name": "stderr",
     "output_type": "stream",
     "text": [
      "c:\\Users\\dezsics\\AppData\\Local\\Programs\\Python\\Python310\\lib\\site-packages\\keras\\preprocessing\\image.py:1460: UserWarning: This ImageDataGenerator specifies `featurewise_std_normalization`, which overrides setting of `featurewise_center`.\n",
      "  warnings.warn(\n"
     ]
    },
    {
     "name": "stdout",
     "output_type": "stream",
     "text": [
      "Found 37950 images belonging to 10 classes.\n"
     ]
    }
   ],
   "source": [
    "from keras.preprocessing.image import ImageDataGenerator\n",
    "\n",
    "train_gen = ImageDataGenerator(rescale=1./255, featurewise_std_normalization=True)\n",
    "train_data = train_gen.flow_from_directory(path,\n",
    "                                           target_size=(28, 28),\n",
    "                                           batch_size=512,\n",
    "                                           color_mode='grayscale')"
   ]
  },
  {
   "cell_type": "code",
   "execution_count": 3,
   "metadata": {},
   "outputs": [],
   "source": [
    "from keras import Sequential\n",
    "from keras.layers import Convolution2D, MaxPooling2D, Flatten, Dropout, Dense\n",
    "\n",
    "model = Sequential()\n",
    "model.add(Convolution2D(32, (5, 5), \n",
    "                        input_shape=(28, 28, 1), \n",
    "                        activation='relu'))\n",
    "model.add(MaxPooling2D((2, 2)))\n",
    "model.add(Convolution2D(64, (5, 5), activation='relu'))\n",
    "model.add(MaxPooling2D((2, 2)))\n",
    "model.add(Flatten())\n",
    "model.add(Dense(256, activation='relu'))\n",
    "model.add(Dropout(0.5))\n",
    "model.add(Dense(10, activation='softmax'))\n",
    "\n",
    "model.compile(loss='categorical_crossentropy',\n",
    "             optimizer='adam',\n",
    "             metrics=['accuracy'])"
   ]
  },
  {
   "cell_type": "code",
   "execution_count": 4,
   "metadata": {},
   "outputs": [
    {
     "name": "stdout",
     "output_type": "stream",
     "text": [
      "Model: \"sequential\"\n",
      "_________________________________________________________________\n",
      " Layer (type)                Output Shape              Param #   \n",
      "=================================================================\n",
      " conv2d (Conv2D)             (None, 24, 24, 32)        832       \n",
      "                                                                 \n",
      " max_pooling2d (MaxPooling2D  (None, 12, 12, 32)       0         \n",
      " )                                                               \n",
      "                                                                 \n",
      " conv2d_1 (Conv2D)           (None, 8, 8, 64)          51264     \n",
      "                                                                 \n",
      " max_pooling2d_1 (MaxPooling  (None, 4, 4, 64)         0         \n",
      " 2D)                                                             \n",
      "                                                                 \n",
      " flatten (Flatten)           (None, 1024)              0         \n",
      "                                                                 \n",
      " dense (Dense)               (None, 256)               262400    \n",
      "                                                                 \n",
      " dropout (Dropout)           (None, 256)               0         \n",
      "                                                                 \n",
      " dense_1 (Dense)             (None, 10)                2570      \n",
      "                                                                 \n",
      "=================================================================\n",
      "Total params: 317,066\n",
      "Trainable params: 317,066\n",
      "Non-trainable params: 0\n",
      "_________________________________________________________________\n"
     ]
    }
   ],
   "source": [
    "model.summary()"
   ]
  },
  {
   "cell_type": "code",
   "execution_count": 5,
   "metadata": {},
   "outputs": [
    {
     "name": "stderr",
     "output_type": "stream",
     "text": [
      "C:\\Users\\dezsics\\AppData\\Local\\Temp\\ipykernel_20552\\2973545604.py:1: UserWarning: `Model.fit_generator` is deprecated and will be removed in a future version. Please use `Model.fit`, which supports generators.\n",
      "  model.fit_generator(train_data, epochs=10)\n",
      "c:\\Users\\dezsics\\AppData\\Local\\Programs\\Python\\Python310\\lib\\site-packages\\keras\\preprocessing\\image.py:1861: UserWarning: This ImageDataGenerator specifies `featurewise_center`, but it hasn't been fit on any training data. Fit it first by calling `.fit(numpy_data)`.\n",
      "  warnings.warn(\n",
      "c:\\Users\\dezsics\\AppData\\Local\\Programs\\Python\\Python310\\lib\\site-packages\\keras\\preprocessing\\image.py:1871: UserWarning: This ImageDataGenerator specifies `featurewise_std_normalization`, but it hasn't been fit on any training data. Fit it first by calling `.fit(numpy_data)`.\n",
      "  warnings.warn(\n"
     ]
    },
    {
     "name": "stdout",
     "output_type": "stream",
     "text": [
      "Epoch 1/10\n",
      "75/75 [==============================] - 567s 8s/step - loss: 0.5672 - accuracy: 0.8271\n",
      "Epoch 2/10\n",
      "75/75 [==============================] - 31s 409ms/step - loss: 0.1504 - accuracy: 0.9545\n",
      "Epoch 3/10\n",
      "75/75 [==============================] - 32s 426ms/step - loss: 0.0991 - accuracy: 0.9706\n",
      "Epoch 4/10\n",
      "75/75 [==============================] - 45s 594ms/step - loss: 0.0804 - accuracy: 0.9758\n",
      "Epoch 5/10\n",
      "75/75 [==============================] - 34s 451ms/step - loss: 0.0642 - accuracy: 0.9805\n",
      "Epoch 6/10\n",
      "75/75 [==============================] - 32s 428ms/step - loss: 0.0535 - accuracy: 0.9828\n",
      "Epoch 7/10\n",
      "75/75 [==============================] - 32s 425ms/step - loss: 0.0453 - accuracy: 0.9860\n",
      "Epoch 8/10\n",
      "75/75 [==============================] - 30s 393ms/step - loss: 0.0424 - accuracy: 0.9873\n",
      "Epoch 9/10\n",
      "75/75 [==============================] - 35s 459ms/step - loss: 0.0383 - accuracy: 0.9877\n",
      "Epoch 10/10\n",
      "75/75 [==============================] - 34s 453ms/step - loss: 0.0350 - accuracy: 0.9889\n"
     ]
    },
    {
     "data": {
      "text/plain": [
       "<keras.callbacks.History at 0x2136bc95e70>"
      ]
     },
     "execution_count": 5,
     "metadata": {},
     "output_type": "execute_result"
    }
   ],
   "source": [
    "model.fit_generator(train_data, epochs=10)"
   ]
  },
  {
   "cell_type": "markdown",
   "metadata": {},
   "source": [
    "- Láthatóan egész jó accuracy-t tudtunk elérni :)"
   ]
  }
 ],
 "metadata": {
  "kernelspec": {
   "display_name": "Python 3",
   "language": "python",
   "name": "python3"
  },
  "language_info": {
   "codemirror_mode": {
    "name": "ipython",
    "version": 3
   },
   "file_extension": ".py",
   "mimetype": "text/x-python",
   "name": "python",
   "nbconvert_exporter": "python",
   "pygments_lexer": "ipython3",
   "version": "3.10.8"
  }
 },
 "nbformat": 4,
 "nbformat_minor": 2
}
